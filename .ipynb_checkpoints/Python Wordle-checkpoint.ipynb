{
 "cells": [
  {
   "cell_type": "code",
   "execution_count": 26,
   "id": "6e80cad1",
   "metadata": {},
   "outputs": [
    {
     "name": "stdout",
     "output_type": "stream",
     "text": [
      "Guess a 5 letter word: start\n",
      "\n",
      "sta\u001b[33mr\u001b[0mt\n",
      "\n",
      "Remaining available letters:\n",
      " b c d e f g h i j k l m n o p q r u v w x y z\n",
      "You have 5 guesses left. \n",
      "\n",
      "Guess a 5 letter word: craft\n",
      "\n",
      "c\u001b[32mr\u001b[0maft\n",
      "\n",
      "Remaining available letters:\n",
      " b d e g h i j k l m n o p q r u v w x y z\n",
      "You have 4 guesses left. \n",
      "\n",
      "Guess a 5 letter word: drive\n",
      "\n",
      "\u001b[32md\u001b[0m\u001b[32mr\u001b[0m\u001b[32mi\u001b[0m\u001b[32mv\u001b[0m\u001b[32me\u001b[0m\n",
      "\n",
      "-- YOU WIN! --\n"
     ]
    }
   ],
   "source": [
    "import random\n",
    "import string\n",
    "\n",
    "green = '\\u001b[32m'\n",
    "yellow = '\\x1B[33m'\n",
    "stop = '\\x1B[0m'\n",
    "\n",
    "words = [\"aside\", \"coast\", \"moved\", \"truck\", \"aisle\", \"drive\", \"moxie\", \"movie\", \"video\", \"trout\", \"fishy\"]\n",
    "\n",
    "word = random.choice(words)\n",
    "\n",
    "\n",
    "\n",
    "def display_guess(guess, word, available_letters):\n",
    "    guess_display = ''\n",
    "    correct_letters = ''\n",
    "    for index, letter in enumerate(guess):\n",
    "        if guess[index] == word[index]:\n",
    "            correct_letters += letter\n",
    "\n",
    "    for index, letter in enumerate(guess):\n",
    "        if guess[index] == word[index]:\n",
    "            guess_display += f\"{green}{letter}{stop}\"\n",
    "        elif letter in word and (correct_letters.count(letter) + guess_display.count(letter)) < word.count(letter):\n",
    "            guess_display += f\"{yellow}{letter}{stop}\"\n",
    "        else: \n",
    "            guess_display+= letter\n",
    "            if letter in available_letters:\n",
    "                available_letters.remove(letter)\n",
    "    return guess_display\n",
    "\n",
    "    \n",
    "def wordle(word):\n",
    "    \n",
    "    count = 6\n",
    "    available_letters = list(string.ascii_lowercase)\n",
    "\n",
    "    while count > 0:\n",
    "        guess = input('Guess a 5 letter word: ').strip()\n",
    "\n",
    "        print(f'\\n{display_guess(guess, word, available_letters)}\\n')\n",
    "        if guess == word:\n",
    "            print(\"-- YOU WIN! --\")\n",
    "            return\n",
    "        count-= 1\n",
    "        print(f'''Remaining available letters:\\n {' '.join(available_letters)}''')\n",
    "        print(f'You have {count} guesses left. \\n')\n",
    "\n",
    "    print(\"Sorry, you're out of guesses. The correct word was\", word, \"\\n -- GAME OVER! -- \")\n",
    "\n",
    "\n",
    "wordle(word)"
   ]
  },
  {
   "cell_type": "code",
   "execution_count": null,
   "id": "28798639",
   "metadata": {},
   "outputs": [],
   "source": []
  },
  {
   "cell_type": "code",
   "execution_count": null,
   "id": "008885d3",
   "metadata": {},
   "outputs": [],
   "source": []
  },
  {
   "cell_type": "code",
   "execution_count": null,
   "id": "756809f7",
   "metadata": {},
   "outputs": [],
   "source": []
  },
  {
   "cell_type": "code",
   "execution_count": null,
   "id": "021ac1c4",
   "metadata": {},
   "outputs": [],
   "source": []
  }
 ],
 "metadata": {
  "kernelspec": {
   "display_name": "Python 3 (ipykernel)",
   "language": "python",
   "name": "python3"
  },
  "language_info": {
   "codemirror_mode": {
    "name": "ipython",
    "version": 3
   },
   "file_extension": ".py",
   "mimetype": "text/x-python",
   "name": "python",
   "nbconvert_exporter": "python",
   "pygments_lexer": "ipython3",
   "version": "3.8.9"
  }
 },
 "nbformat": 4,
 "nbformat_minor": 5
}
